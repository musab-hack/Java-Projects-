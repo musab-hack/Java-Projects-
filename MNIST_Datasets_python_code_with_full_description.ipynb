{
  "nbformat": 4,
  "nbformat_minor": 0,
  "metadata": {
    "colab": {
      "name": "Copy of MNIST Datasets",
      "provenance": [],
      "collapsed_sections": [],
      "authorship_tag": "ABX9TyMP2m9rt13zu6OAb/1qcglp",
      "include_colab_link": true
    },
    "kernelspec": {
      "name": "python3",
      "display_name": "Python 3"
    }
  },
  "cells": [
    {
      "cell_type": "markdown",
      "metadata": {
        "id": "view-in-github",
        "colab_type": "text"
      },
      "source": [
        "<a href=\"https://colab.research.google.com/github/musab-hack/Java-Projects-/blob/master/MNIST_Datasets_python_code_with_full_description.ipynb\" target=\"_parent\"><img src=\"https://colab.research.google.com/assets/colab-badge.svg\" alt=\"Open In Colab\"/></a>"
      ]
    },
    {
      "cell_type": "markdown",
      "metadata": {
        "id": "zBT67oPTZqlP",
        "colab_type": "text"
      },
      "source": [
        "# Machine Learning with MNIST datasets, Complete Tutorial with Explanation\n",
        "\n"
      ]
    },
    {
      "cell_type": "markdown",
      "metadata": {
        "id": "6rrQDN7G8QBu",
        "colab_type": "text"
      },
      "source": [
        "## Some Important Points to Note down!!!!\n",
        "\n",
        "\n",
        "**1)** You can either define a utility function (or fitness function) that measures how good your model is, or you can define a **cost function** that measures how bad it is.\n",
        "\n",
        "**2)** For **linear regression problems**, people\n",
        "typically use a cost function that measures the distance between the linear model’s predictions and the training examples; the objective is to minimize this distance.\n",
        "\n",
        "URL : https://ibb.co/qrC71qK     (Image)\n",
        "\n",
        "**3)** During Clearning of data some instances are clearly outliers, it may help to simply discard them\n",
        "\n",
        "**4)** ***Overfitting the Training Data***: In Machine Learning this is called overfitting: it means that the model performs well on the training data, but it does not generalize well.\n",
        "\n",
        "**5)** Regularization reduces the risk of overfitting of datasets and it can be controlled by the hyperparameter\n",
        "\n",
        "**6)** Important concept about **Non-Linear Regression** and **Linear Regression**\n",
        "https://www.javatpoint.com/machine-learning-polynomial-regression#:~:text=ML%20Polynomial%20Regression&text=It%20is%20also%20called%20the,order%20to%20increase%20the%20accuracy.\n",
        "\n",
        "**7)** Be aware about the Nonlinear Datasets and Linear Datasets\n",
        "\n",
        "**8)** For the best choice of the model you can use the Cross Validation "
      ]
    },
    {
      "cell_type": "code",
      "metadata": {
        "id": "eVq0fd2Sd-SP",
        "colab_type": "code",
        "colab": {}
      },
      "source": [
        "import numpy as np\n",
        "import pandas as pd\n"
      ],
      "execution_count": 1,
      "outputs": []
    },
    {
      "cell_type": "code",
      "metadata": {
        "id": "RisBNfGpd-Xj",
        "colab_type": "code",
        "colab": {}
      },
      "source": [
        "from sklearn.datasets import fetch_openml"
      ],
      "execution_count": 2,
      "outputs": []
    },
    {
      "cell_type": "code",
      "metadata": {
        "id": "jyHil7D0d-Vl",
        "colab_type": "code",
        "colab": {}
      },
      "source": [
        "mnist = fetch_openml('mnist_784' , version=1)"
      ],
      "execution_count": 3,
      "outputs": []
    },
    {
      "cell_type": "code",
      "metadata": {
        "id": "RuqJ34Czwe73",
        "colab_type": "code",
        "colab": {
          "base_uri": "https://localhost:8080/",
          "height": 1000
        },
        "outputId": "4904e35b-225b-4d3c-eb8d-133d87680f90"
      },
      "source": [
        "data , target = mnist[\"data\"] , mnist[\"target\"]\n",
        "data[1] # Single Pixel"
      ],
      "execution_count": 4,
      "outputs": [
        {
          "output_type": "execute_result",
          "data": {
            "text/plain": [
              "array([  0.,   0.,   0.,   0.,   0.,   0.,   0.,   0.,   0.,   0.,   0.,\n",
              "         0.,   0.,   0.,   0.,   0.,   0.,   0.,   0.,   0.,   0.,   0.,\n",
              "         0.,   0.,   0.,   0.,   0.,   0.,   0.,   0.,   0.,   0.,   0.,\n",
              "         0.,   0.,   0.,   0.,   0.,   0.,   0.,   0.,   0.,   0.,   0.,\n",
              "         0.,   0.,   0.,   0.,   0.,   0.,   0.,   0.,   0.,   0.,   0.,\n",
              "         0.,   0.,   0.,   0.,   0.,   0.,   0.,   0.,   0.,   0.,   0.,\n",
              "         0.,   0.,   0.,   0.,   0.,   0.,   0.,   0.,   0.,   0.,   0.,\n",
              "         0.,   0.,   0.,   0.,   0.,   0.,   0.,   0.,   0.,   0.,   0.,\n",
              "         0.,   0.,   0.,   0.,   0.,   0.,   0.,   0.,   0.,   0.,   0.,\n",
              "         0.,   0.,   0.,   0.,   0.,   0.,   0.,   0.,   0.,   0.,   0.,\n",
              "         0.,   0.,   0.,   0.,   0.,   0.,   0.,   0.,   0.,   0.,   0.,\n",
              "         0.,   0.,   0.,   0.,   0.,   0.,  51., 159., 253., 159.,  50.,\n",
              "         0.,   0.,   0.,   0.,   0.,   0.,   0.,   0.,   0.,   0.,   0.,\n",
              "         0.,   0.,   0.,   0.,   0.,   0.,   0.,   0.,   0.,   0.,   0.,\n",
              "        48., 238., 252., 252., 252., 237.,   0.,   0.,   0.,   0.,   0.,\n",
              "         0.,   0.,   0.,   0.,   0.,   0.,   0.,   0.,   0.,   0.,   0.,\n",
              "         0.,   0.,   0.,   0.,   0.,  54., 227., 253., 252., 239., 233.,\n",
              "       252.,  57.,   6.,   0.,   0.,   0.,   0.,   0.,   0.,   0.,   0.,\n",
              "         0.,   0.,   0.,   0.,   0.,   0.,   0.,   0.,   0.,  10.,  60.,\n",
              "       224., 252., 253., 252., 202.,  84., 252., 253., 122.,   0.,   0.,\n",
              "         0.,   0.,   0.,   0.,   0.,   0.,   0.,   0.,   0.,   0.,   0.,\n",
              "         0.,   0.,   0.,   0., 163., 252., 252., 252., 253., 252., 252.,\n",
              "        96., 189., 253., 167.,   0.,   0.,   0.,   0.,   0.,   0.,   0.,\n",
              "         0.,   0.,   0.,   0.,   0.,   0.,   0.,   0.,   0.,  51., 238.,\n",
              "       253., 253., 190., 114., 253., 228.,  47.,  79., 255., 168.,   0.,\n",
              "         0.,   0.,   0.,   0.,   0.,   0.,   0.,   0.,   0.,   0.,   0.,\n",
              "         0.,   0.,   0.,  48., 238., 252., 252., 179.,  12.,  75., 121.,\n",
              "        21.,   0.,   0., 253., 243.,  50.,   0.,   0.,   0.,   0.,   0.,\n",
              "         0.,   0.,   0.,   0.,   0.,   0.,   0.,   0.,  38., 165., 253.,\n",
              "       233., 208.,  84.,   0.,   0.,   0.,   0.,   0.,   0., 253., 252.,\n",
              "       165.,   0.,   0.,   0.,   0.,   0.,   0.,   0.,   0.,   0.,   0.,\n",
              "         0.,   0.,   7., 178., 252., 240.,  71.,  19.,  28.,   0.,   0.,\n",
              "         0.,   0.,   0.,   0., 253., 252., 195.,   0.,   0.,   0.,   0.,\n",
              "         0.,   0.,   0.,   0.,   0.,   0.,   0.,   0.,  57., 252., 252.,\n",
              "        63.,   0.,   0.,   0.,   0.,   0.,   0.,   0.,   0.,   0., 253.,\n",
              "       252., 195.,   0.,   0.,   0.,   0.,   0.,   0.,   0.,   0.,   0.,\n",
              "         0.,   0.,   0., 198., 253., 190.,   0.,   0.,   0.,   0.,   0.,\n",
              "         0.,   0.,   0.,   0.,   0., 255., 253., 196.,   0.,   0.,   0.,\n",
              "         0.,   0.,   0.,   0.,   0.,   0.,   0.,   0.,  76., 246., 252.,\n",
              "       112.,   0.,   0.,   0.,   0.,   0.,   0.,   0.,   0.,   0.,   0.,\n",
              "       253., 252., 148.,   0.,   0.,   0.,   0.,   0.,   0.,   0.,   0.,\n",
              "         0.,   0.,   0.,  85., 252., 230.,  25.,   0.,   0.,   0.,   0.,\n",
              "         0.,   0.,   0.,   0.,   7., 135., 253., 186.,  12.,   0.,   0.,\n",
              "         0.,   0.,   0.,   0.,   0.,   0.,   0.,   0.,   0.,  85., 252.,\n",
              "       223.,   0.,   0.,   0.,   0.,   0.,   0.,   0.,   0.,   7., 131.,\n",
              "       252., 225.,  71.,   0.,   0.,   0.,   0.,   0.,   0.,   0.,   0.,\n",
              "         0.,   0.,   0.,   0.,  85., 252., 145.,   0.,   0.,   0.,   0.,\n",
              "         0.,   0.,   0.,  48., 165., 252., 173.,   0.,   0.,   0.,   0.,\n",
              "         0.,   0.,   0.,   0.,   0.,   0.,   0.,   0.,   0.,   0.,  86.,\n",
              "       253., 225.,   0.,   0.,   0.,   0.,   0.,   0., 114., 238., 253.,\n",
              "       162.,   0.,   0.,   0.,   0.,   0.,   0.,   0.,   0.,   0.,   0.,\n",
              "         0.,   0.,   0.,   0.,   0.,  85., 252., 249., 146.,  48.,  29.,\n",
              "        85., 178., 225., 253., 223., 167.,  56.,   0.,   0.,   0.,   0.,\n",
              "         0.,   0.,   0.,   0.,   0.,   0.,   0.,   0.,   0.,   0.,   0.,\n",
              "        85., 252., 252., 252., 229., 215., 252., 252., 252., 196., 130.,\n",
              "         0.,   0.,   0.,   0.,   0.,   0.,   0.,   0.,   0.,   0.,   0.,\n",
              "         0.,   0.,   0.,   0.,   0.,   0.,  28., 199., 252., 252., 253.,\n",
              "       252., 252., 233., 145.,   0.,   0.,   0.,   0.,   0.,   0.,   0.,\n",
              "         0.,   0.,   0.,   0.,   0.,   0.,   0.,   0.,   0.,   0.,   0.,\n",
              "         0.,   0.,  25., 128., 252., 253., 252., 141.,  37.,   0.,   0.,\n",
              "         0.,   0.,   0.,   0.,   0.,   0.,   0.,   0.,   0.,   0.,   0.,\n",
              "         0.,   0.,   0.,   0.,   0.,   0.,   0.,   0.,   0.,   0.,   0.,\n",
              "         0.,   0.,   0.,   0.,   0.,   0.,   0.,   0.,   0.,   0.,   0.,\n",
              "         0.,   0.,   0.,   0.,   0.,   0.,   0.,   0.,   0.,   0.,   0.,\n",
              "         0.,   0.,   0.,   0.,   0.,   0.,   0.,   0.,   0.,   0.,   0.,\n",
              "         0.,   0.,   0.,   0.,   0.,   0.,   0.,   0.,   0.,   0.,   0.,\n",
              "         0.,   0.,   0.,   0.,   0.,   0.,   0.,   0.,   0.,   0.,   0.,\n",
              "         0.,   0.,   0.,   0.,   0.,   0.,   0.,   0.,   0.,   0.,   0.,\n",
              "         0.,   0.,   0.,   0.,   0.,   0.,   0.,   0.,   0.,   0.,   0.,\n",
              "         0.,   0.,   0.,   0.,   0.,   0.,   0.,   0.,   0.,   0.,   0.,\n",
              "         0.,   0.,   0.,   0.,   0.,   0.,   0.,   0.,   0.,   0.,   0.,\n",
              "         0.,   0.,   0.])"
            ]
          },
          "metadata": {
            "tags": []
          },
          "execution_count": 4
        }
      ]
    },
    {
      "cell_type": "code",
      "metadata": {
        "id": "s5k5KkVIwfBm",
        "colab_type": "code",
        "colab": {
          "base_uri": "https://localhost:8080/",
          "height": 34
        },
        "outputId": "b088b520-8d74-460f-a6cd-05a504ab7403"
      },
      "source": [
        "data.shape # Print the rows and columns of the data"
      ],
      "execution_count": 5,
      "outputs": [
        {
          "output_type": "execute_result",
          "data": {
            "text/plain": [
              "(70000, 784)"
            ]
          },
          "metadata": {
            "tags": []
          },
          "execution_count": 5
        }
      ]
    },
    {
      "cell_type": "markdown",
      "metadata": {
        "id": "BNt917V6xz-7",
        "colab_type": "text"
      },
      "source": [
        "There are 70,000 images, and each image has 784 features. This is because each image is 28×28 pixels, and each feature simply represents one pixel’s intensity, from 0 (white) to 255 (black)"
      ]
    },
    {
      "cell_type": "code",
      "metadata": {
        "id": "WtBM3J_6we_c",
        "colab_type": "code",
        "colab": {
          "base_uri": "https://localhost:8080/",
          "height": 265
        },
        "outputId": "a5fcc25f-861f-4cf7-96e1-936252eaf7a2"
      },
      "source": [
        "import matplotlib as mpl\n",
        "import matplotlib.pyplot as plt\n",
        "\n",
        "digit = data[49]\n",
        "digit = digit.reshape(28 , 28)\n",
        "\n",
        "plt.imshow(digit , cmap = mpl.cm.binary , interpolation=\"nearest\")\n",
        "plt.show()"
      ],
      "execution_count": 6,
      "outputs": [
        {
          "output_type": "display_data",
          "data": {
            "image/png": "[encoded data removed]",
            "text/plain": [
              "<Figure size 432x288 with 1 Axes>"
            ]
          },
          "metadata": {
            "tags": [],
            "needs_background": "light"
          }
        }
      ]
    },
    {
      "cell_type": "markdown",
      "metadata": {
        "id": "ovT6CWWJy_m7",
        "colab_type": "text"
      },
      "source": [
        "Note that the label is a string, we need to convert into int \n"
      ]
    },
    {
      "cell_type": "code",
      "metadata": {
        "id": "sdEWqUeexkks",
        "colab_type": "code",
        "colab": {
          "base_uri": "https://localhost:8080/",
          "height": 34
        },
        "outputId": "460e7aca-14f9-482e-976e-f3e0c5d191d4"
      },
      "source": [
        "target = target.astype(np.uint8)\n",
        "target[12]"
      ],
      "execution_count": 7,
      "outputs": [
        {
          "output_type": "execute_result",
          "data": {
            "text/plain": [
              "3"
            ]
          },
          "metadata": {
            "tags": []
          },
          "execution_count": 7
        }
      ]
    },
    {
      "cell_type": "markdown",
      "metadata": {
        "id": "qrYaRPxj0LA1",
        "colab_type": "text"
      },
      "source": [
        "You should always create a test set and set it aside before inspecting the data\n",
        "closely. The MNIST dataset is actually already split into a training set (the first 60,000\n",
        "images) and a test set (the last 10,000 images):\n"
      ]
    },
    {
      "cell_type": "markdown",
      "metadata": {
        "id": "XElRrcc2_jZ5",
        "colab_type": "text"
      },
      "source": [
        "# **Training The Binary Classifier**"
      ]
    },
    {
      "cell_type": "markdown",
      "metadata": {
        "id": "JzvqMG6bDU4D",
        "colab_type": "text"
      },
      "source": [
        "We are here using the Stohastic Gradient Decent (SGD). This classifier\n",
        "has the advantage of being capable of handling very large datasets efficiently.\n",
        "This is in part because SGD deals with training instances independently, one at a time\n",
        "(which also makes SGD well suited for online learning)."
      ]
    },
    {
      "cell_type": "code",
      "metadata": {
        "id": "DeA8fo72UxrQ",
        "colab_type": "code",
        "colab": {
          "base_uri": "https://localhost:8080/",
          "height": 34
        },
        "outputId": "258321ac-575c-458f-a209-6d1c4ed271ac"
      },
      "source": [
        "from sklearn.linear_model import SGDClassifier\n",
        "X_train, X_test, y_train, y_test = data[:60000], data[60000:], target[:60000], target[60000:]\n",
        "y_train_3 = (y_train == 3) # True for all 5s, False for all other digits.\n",
        "y_test_3 = (y_test == 3)\n",
        "sgd_clf = SGDClassifier(random_state=42)\n",
        "sgd_clf.fit(X_train, y_train_3)\n",
        "digit = digit.reshape(1, 784)\n",
        "sgd_clf.predict(digit)"
      ],
      "execution_count": 8,
      "outputs": [
        {
          "output_type": "execute_result",
          "data": {
            "text/plain": [
              "array([ True])"
            ]
          },
          "metadata": {
            "tags": []
          },
          "execution_count": 8
        }
      ]
    },
    {
      "cell_type": "markdown",
      "metadata": {
        "id": "NexrJcwS3o5J",
        "colab_type": "text"
      },
      "source": [
        "# **Perfomance Measure**\n",
        "Let’s use the cross_val_score() function to evaluate your SGDClassifier model\n",
        "using K-fold cross-validation, with three folds."
      ]
    },
    {
      "cell_type": "code",
      "metadata": {
        "id": "vaAND6pem5MA",
        "colab_type": "code",
        "colab": {
          "base_uri": "https://localhost:8080/",
          "height": 34
        },
        "outputId": "c4c773a2-d5eb-4265-9109-f63a5a39e153"
      },
      "source": [
        "from sklearn.model_selection import cross_val_score\n",
        "cross_val_score(sgd_clf , X_train ,y_train_3, cv=3,scoring=\"accuracy\" )"
      ],
      "execution_count": 9,
      "outputs": [
        {
          "output_type": "execute_result",
          "data": {
            "text/plain": [
              "array([0.9496 , 0.9624 , 0.96275])"
            ]
          },
          "metadata": {
            "tags": []
          },
          "execution_count": 9
        }
      ]
    },
    {
      "cell_type": "markdown",
      "metadata": {
        "id": "kWAlmsUj676t",
        "colab_type": "text"
      },
      "source": [
        "let’s look at a very\n",
        "dumb classifier that just classifies every single image in the “not-5”.\n",
        "When we calculate for the NOT 3, it gives me 90% accuracy, it means that data is skewed.\n",
        "**When you have skewed Datasets Accuracy will not give best performance Measure**\n",
        "\n",
        "# **WHAT DO WE DO NOW????????**\n",
        "## here Come Confusion Matrix\n",
        "A much better way to evaluate the performance of a classifier is to look at the confusion\n",
        "matrix. The general idea is to count the number of times instances of class A are\n",
        "classified as class B.\n"
      ]
    },
    {
      "cell_type": "code",
      "metadata": {
        "id": "fy98iWEKm5S8",
        "colab_type": "code",
        "colab": {}
      },
      "source": [
        "from sklearn.model_selection import cross_val_predict\n",
        "y_train_pred = cross_val_predict(sgd_clf , X_train ,y_train_3, cv=3)\n"
      ],
      "execution_count": 10,
      "outputs": []
    },
    {
      "cell_type": "code",
      "metadata": {
        "id": "_d76QnTKm5Y4",
        "colab_type": "code",
        "colab": {}
      },
      "source": [
        ""
      ],
      "execution_count": 10,
      "outputs": []
    },
    {
      "cell_type": "code",
      "metadata": {
        "id": "sqJPP-6Lm5Wm",
        "colab_type": "code",
        "colab": {
          "base_uri": "https://localhost:8080/",
          "height": 51
        },
        "outputId": "7e906949-efed-487e-9f05-5eddd6d81213"
      },
      "source": [
        "from sklearn.metrics import confusion_matrix\n",
        "\n",
        "confusion_matrix(y_train_3 , y_train_pred)"
      ],
      "execution_count": 11,
      "outputs": [
        {
          "output_type": "execute_result",
          "data": {
            "text/plain": [
              "array([[53477,   392],\n",
              "       [ 2113,  4018]])"
            ]
          },
          "metadata": {
            "tags": []
          },
          "execution_count": 11
        }
      ]
    },
    {
      "cell_type": "markdown",
      "metadata": {
        "id": "r2PTtwrF9hDk",
        "colab_type": "text"
      },
      "source": [
        "Each row in a confusion matrix represents an actual class, while each column represents\n",
        "a predicted class. The first row of this matrix considers non-3 images (the negative.\n",
        "\n",
        "**53477 of them were correctly classified as non-3s.**\n",
        "\n",
        "**392 were wrongly classified as 3s (false positives).**\n",
        "\n",
        "**2113 were wrongly classified as non-3s (false negatives).**\n",
        "\n",
        "**4,096 were correctly classified\n",
        "as 3s (true positives).** \n",
        "\n",
        "precision = TP/\n",
        "(TP + FP)\n",
        "TP = True Positive vise versa"
      ]
    },
    {
      "cell_type": "markdown",
      "metadata": {
        "id": "Gl7hrekSXtsM",
        "colab_type": "text"
      },
      "source": [
        "# Precision and Recall\n",
        "## Recall = Out of all the possible positive labels, how many did the model correctly identify?\n",
        "it is just like confusion matrix but it calculate the precision for you....."
      ]
    },
    {
      "cell_type": "markdown",
      "metadata": {
        "id": "szmbIR_8dGPO",
        "colab_type": "text"
      },
      "source": [
        "https://www.photobox.co.uk/my/photo/full?photo_id=503218270406"
      ]
    },
    {
      "cell_type": "code",
      "metadata": {
        "id": "OGBXoBpc9DD0",
        "colab_type": "code",
        "colab": {
          "base_uri": "https://localhost:8080/",
          "height": 51
        },
        "outputId": "1991b7ba-49c0-48d4-8564-b08133611c74"
      },
      "source": [
        "from sklearn.metrics import precision_score, recall_score\n",
        "\n",
        "# It Detect 3 && It is Correct\n",
        "# TP / (TP + FP)\n",
        "print(\"It Detect 3 && It is Correct\" , precision_score(y_train_3 , y_train_pred))\n",
        "# TP / (TP + FN)\n",
        "# It Only Detects\n",
        "print(\"It Only Detects\" , recall_score(y_train_3 , y_train_pred))"
      ],
      "execution_count": 26,
      "outputs": [
        {
          "output_type": "stream",
          "text": [
            "It Detect 3 && It is Correct 0.9111111111111111\n",
            "It Only Detects 0.655358016636764\n"
          ],
          "name": "stdout"
        }
      ]
    },
    {
      "cell_type": "markdown",
      "metadata": {
        "id": "IkhmQhsc4lI3",
        "colab_type": "text"
      },
      "source": [
        "## F1 Score is the combination of the Precision and Recall values.\n",
        "Harmonic Mean of the precision and Recall value is F1 Score\n",
        "\n",
        "Inceasing Precision and Decrease Recall is best for accurate result, **this is also called Recall Tradeoff or Precision**"
      ]
    },
    {
      "cell_type": "markdown",
      "metadata": {
        "id": "Yr4BYizvbPo-",
        "colab_type": "text"
      },
      "source": [
        ""
      ]
    },
    {
      "cell_type": "code",
      "metadata": {
        "id": "9ZUFts9X9DJT",
        "colab_type": "code",
        "colab": {
          "base_uri": "https://localhost:8080/",
          "height": 34
        },
        "outputId": "cf52d1c2-8378-4e2a-ae2e-fcf976aa1d5f"
      },
      "source": [
        "from sklearn.metrics import f1_score\n",
        "# Precison \n",
        "\n",
        "print(\"Precison is: \", f1_score(y_train_3 , y_train_pred))"
      ],
      "execution_count": 18,
      "outputs": [
        {
          "output_type": "stream",
          "text": [
            "Precison is:  0.7623565126648326\n"
          ],
          "name": "stdout"
        }
      ]
    },
    {
      "cell_type": "markdown",
      "metadata": {
        "id": "ciZwz_sVc4Ck",
        "colab_type": "text"
      },
      "source": [
        "https://www.photobox.co.uk/my/photo/full?photo_id=503218269439\n",
        "\n",
        "www.photobox.co.uk/my/photo/full?photo_id=503218270402"
      ]
    },
    {
      "cell_type": "markdown",
      "metadata": {
        "id": "vyVbR1sFKJCf",
        "colab_type": "text"
      },
      "source": [
        "you can call its decision_function() method, which returns a\n",
        "score for each instance, and then make predictions based on those scores using any\n",
        "threshold"
      ]
    },
    {
      "cell_type": "code",
      "metadata": {
        "id": "UeUwWYNp9DNp",
        "colab_type": "code",
        "colab": {
          "base_uri": "https://localhost:8080/",
          "height": 34
        },
        "outputId": "b3917ccc-174b-4f3c-8103-b651f480d058"
      },
      "source": [
        "y_score = sgd_clf.decision_function([digit])\n",
        "y_score \n",
        "threshold = 0\n",
        "y_some_digit_pred = (y_score > threshold)\n",
        "y_some_digit_pred"
      ],
      "execution_count": 39,
      "outputs": [
        {
          "output_type": "execute_result",
          "data": {
            "text/plain": [
              "array([ True])"
            ]
          },
          "metadata": {
            "tags": []
          },
          "execution_count": 39
        }
      ]
    },
    {
      "cell_type": "code",
      "metadata": {
        "id": "cJ-fhVTsQFQ_",
        "colab_type": "code",
        "colab": {
          "base_uri": "https://localhost:8080/",
          "height": 34
        },
        "outputId": "e27e066a-882e-4d0b-8471-3393e87fc09e"
      },
      "source": [
        "y_score = sgd_clf.decision_function([digit])\n",
        "y_score \n",
        "threshold = 5000\n",
        "y_some_digit_pred = (y_score > threshold)\n",
        "y_some_digit_pred"
      ],
      "execution_count": 43,
      "outputs": [
        {
          "output_type": "execute_result",
          "data": {
            "text/plain": [
              "array([False])"
            ]
          },
          "metadata": {
            "tags": []
          },
          "execution_count": 43
        }
      ]
    },
    {
      "cell_type": "markdown",
      "metadata": {
        "id": "84XAifLfQTB9",
        "colab_type": "text"
      },
      "source": [
        "This confirms that raising the threshold decreases recall. The image actually represents\n",
        "a 5, and the classifier detects it when the threshold is 0, but it misses it when the\n",
        "threshold is increased to 5000."
      ]
    },
    {
      "cell_type": "markdown",
      "metadata": {
        "id": "eMq42ecMQdWt",
        "colab_type": "text"
      },
      "source": [
        "**Now how do you decide which threshold to use**? For this you will first need to get the\n",
        "scores of all instances in the training set using the cross_val_predict() function\n",
        "again,"
      ]
    },
    {
      "cell_type": "code",
      "metadata": {
        "id": "gzFvcNUuQZJV",
        "colab_type": "code",
        "colab": {
          "base_uri": "https://localhost:8080/",
          "height": 51
        },
        "outputId": "79f4ff51-f7ef-4a29-f7c5-228f846c14ae"
      },
      "source": [
        "y_score = cross_val_predict(sgd_clf , X_train , y_train_3 , cv=3,method=\"decision_function\")\n",
        "y_score\n",
        "# you can compute precision and recall for all possible thresholds\n",
        "# using the precision_recall_curve() function:"
      ],
      "execution_count": 44,
      "outputs": [
        {
          "output_type": "execute_result",
          "data": {
            "text/plain": [
              "array([ -8938.67345168, -17073.83659907,  -2250.42625883, ...,\n",
              "       -15330.33317379, -25099.35767753, -36457.78038114])"
            ]
          },
          "metadata": {
            "tags": []
          },
          "execution_count": 44
        }
      ]
    },
    {
      "cell_type": "code",
      "metadata": {
        "id": "wNohKXeAT7nq",
        "colab_type": "code",
        "colab": {}
      },
      "source": [
        "def plot_precision_graph(precisions,recall,threshold):\n",
        "  plt.plot(threshold , precisions[:-1],\"b--\", label=\"Precision\")\n",
        "  plt.plot(threshold , recall[:-1] , \"g-\",label=\"Recall\")\n",
        "  "
      ],
      "execution_count": 45,
      "outputs": []
    },
    {
      "cell_type": "code",
      "metadata": {
        "id": "Am7xrGBpVkJS",
        "colab_type": "code",
        "colab": {
          "base_uri": "https://localhost:8080/",
          "height": 265
        },
        "outputId": "0f1f2b42-0bbf-4911-af07-1e23fa10f157"
      },
      "source": [
        "from sklearn.metrics import precision_recall_curve\n",
        "precisions , recall , threshold = precision_recall_curve(y_train_3 , y_score)\n",
        "\n",
        "plot_precision_graph(precisions , recall , threshold)\n",
        "# Green is recall\n",
        "# Blue is Precision"
      ],
      "execution_count": 48,
      "outputs": [
        {
          "output_type": "display_data",
          "data": {
            "image/png": "[encoded data removed]",
            "text/plain": [
              "<Figure size 432x288 with 1 Axes>"
            ]
          },
          "metadata": {
            "tags": [],
            "needs_background": "light"
          }
        }
      ]
    },
    {
      "cell_type": "markdown",
      "metadata": {
        "id": "p_fOJktgL6hh",
        "colab_type": "text"
      },
      "source": [
        "\n",
        "# **Selecting Good precision/recall tradeoff**\n",
        "In this way we can graphically take neccessary updates if we want to change the precision of our project.\n",
        "\n",
        "### Y_score an either be probability estimates of the positive class.\n",
        "\n",
        "So let’s suppose you decide to aim for 90% precision. You look up the first plot and\n",
        "find that you need to use a threshold of about 8,000. To be more precise you can\n",
        "search for the lowest threshold that gives you at least 90% precision (np.argmax()\n",
        "will give us the first index of the maximum value, which in this case means the first\n",
        "True value):"
      ]
    },
    {
      "cell_type": "code",
      "metadata": {
        "id": "2sXvBteL9DHO",
        "colab_type": "code",
        "colab": {
          "base_uri": "https://localhost:8080/",
          "height": 51
        },
        "outputId": "3f89ff2f-299b-4121-a6f1-b6a2a891496f"
      },
      "source": [
        "threshold_90_precision = threshold[np.argmax(precisions >= 0.90)]\n",
        "threshold_90_precision\n",
        "y_train_pred_90 = (y_score >= threshold_90_precision)\n",
        "y_score # of each instances\n",
        "\n",
        "print(precision_score(y_train_3 , y_train_pred_90))\n",
        "print(recall_score(y_train_3 , y_train_pred_90))"
      ],
      "execution_count": 55,
      "outputs": [
        {
          "output_type": "stream",
          "text": [
            "0.9000870700914236\n",
            "0.6744413635622247\n"
          ],
          "name": "stdout"
        }
      ]
    },
    {
      "cell_type": "markdown",
      "metadata": {
        "id": "mn40Ase2aA_S",
        "colab_type": "text"
      },
      "source": [
        "Great, you have a 90% precision classifier ! As you can see, it is fairly easy to create a\n",
        "classifier with virtually any precision you want: just set a high enough threshold"
      ]
    },
    {
      "cell_type": "markdown",
      "metadata": {
        "id": "qsnR8pcVaF6y",
        "colab_type": "text"
      },
      "source": [
        "# **Another Method - ROC CURVE**\n"
      ]
    },
    {
      "cell_type": "code",
      "metadata": {
        "id": "_umwBUS79DB4",
        "colab_type": "code",
        "colab": {}
      },
      "source": [
        ""
      ],
      "execution_count": 11,
      "outputs": []
    },
    {
      "cell_type": "code",
      "metadata": {
        "id": "D4cYka2r9C_B",
        "colab_type": "code",
        "colab": {}
      },
      "source": [
        ""
      ],
      "execution_count": 11,
      "outputs": []
    }
  ]
}